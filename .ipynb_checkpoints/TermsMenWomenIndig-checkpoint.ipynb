{
 "cells": [
  {
   "cell_type": "code",
   "execution_count": null,
   "metadata": {},
   "outputs": [],
   "source": [
    "import spacy\n",
    "\n",
    "nlp = spacy.load(\"nl_core_news_lg\")"
   ]
  },
  {
   "cell_type": "code",
   "execution_count": null,
   "metadata": {},
   "outputs": [],
   "source": [
    "from tqdm import tqdm\n",
    "\n",
    "import gzip\n",
    "import os\n",
    "\n",
    "import random\n",
    "\n",
    "import pandas\n",
    "\n",
    "corpus = \"./Corpus/\"\n",
    "anns = \"./Annotations/\"\n",
    "\n",
    "def load(file, corpus, lines=False):\n",
    "    with open(os.path.join(corpus, file), \"r\") as handle:\n",
    "        if lines:\n",
    "            return list(handle) # handle.readlines()\n",
    "        else:\n",
    "            return handle.read()"
   ]
  },
  {
   "cell_type": "code",
   "execution_count": null,
   "metadata": {},
   "outputs": [],
   "source": [
    "#add a line about opening the brat file to look at its format"
   ]
  },
  {
   "cell_type": "code",
   "execution_count": null,
   "metadata": {},
   "outputs": [],
   "source": [
    "\n",
    "def read_csv(file, corpus=anns):\n",
    "    file = load(file, corpus, lines=True)\n",
    "    for line in file:\n",
    "        tab_cols = line.split(\"\\t\")\n",
    "        \n",
    "        if tab_cols[0].startswith(\"T\"):\n",
    "            last = tab_cols[-1].strip()\n",
    "            first = tab_cols[0]\n",
    "            \n",
    "            middle = tab_cols[1].split()\n",
    "#             print(middle, middle[0], middle[-1])\n",
    "            middle = [middle[0], middle[1], middle[-1]]\n",
    "            \n",
    "            yield (first, *middle, last)\n",
    "            \n",
    "def filter_rows(rows):\n",
    "    for r in rows:\n",
    "        if r[1].upper() in [\"WOMEN\", \"INDIGENOUS\", \"MEN\"]:\n",
    "        #if r[1].upper() in [\"PERSON\", \"ORG\", \"GPE\", \"WOMEN\", \"INDIGENOUS\", \"MEN\"]:\n",
    "            yield r\n",
    "        \n",
    "def change_rows(rows):\n",
    "    for r in rows:\n",
    "        entity_nr, entity_type, start, end, label = r\n",
    "        yield int(start), int(end), entity_type.upper(), label"
   ]
  },
  {
   "cell_type": "code",
   "execution_count": null,
   "metadata": {},
   "outputs": [],
   "source": [
    "print(read_csv('NL-HaNA_1.04.02_6847_0013.ann', anns))"
   ]
  },
  {
   "cell_type": "code",
   "execution_count": null,
   "metadata": {},
   "outputs": [],
   "source": [
    "data = {}\n",
    "\n",
    "for ann_f in os.listdir(anns):\n",
    "    if len(load(ann_f, anns)) > 0:\n",
    "        cur_name = ann_f.strip(\".ann\")\n",
    "    \n",
    "        txt_f = cur_name + \".txt\"\n",
    "        if os.path.isfile(os.path.join(corpus, txt_f)):\n",
    "        \n",
    "            #raw_text = load(txt_f, corpus)\n",
    "            brat_entity_list = list(change_rows(filter_rows(read_csv(ann_f, anns))))\n",
    "\n",
    "            data[txt_f] = (brat_entity_list)\n",
    "        else:\n",
    "            print(\"no file\", txt_f)\n",
    "    else:\n",
    "        print(\"annotation file empty\")"
   ]
  },
  {
   "cell_type": "code",
   "execution_count": null,
   "metadata": {},
   "outputs": [],
   "source": [
    "data"
   ]
  },
  {
   "cell_type": "code",
   "execution_count": null,
   "metadata": {},
   "outputs": [],
   "source": [
    "a = data.values()"
   ]
  },
  {
   "cell_type": "code",
   "execution_count": null,
   "metadata": {},
   "outputs": [],
   "source": [
    "l = list(a)"
   ]
  },
  {
   "cell_type": "code",
   "execution_count": null,
   "metadata": {},
   "outputs": [],
   "source": [
    "l"
   ]
  },
  {
   "cell_type": "code",
   "execution_count": null,
   "metadata": {},
   "outputs": [],
   "source": [
    "terms_men = []\n",
    "for x in l:\n",
    "    for y in x:\n",
    "        if y[2] == 'MEN':\n",
    "            terms_men.append(y[3])"
   ]
  },
  {
   "cell_type": "code",
   "execution_count": null,
   "metadata": {},
   "outputs": [],
   "source": [
    "print(terms_men)"
   ]
  },
  {
   "cell_type": "code",
   "execution_count": null,
   "metadata": {},
   "outputs": [],
   "source": [
    "terms_women=[]\n",
    "for x in l:\n",
    "    for y in x:\n",
    "        if y[2] == 'WOMEN':\n",
    "            terms_women.append(y[3])"
   ]
  },
  {
   "cell_type": "code",
   "execution_count": null,
   "metadata": {},
   "outputs": [],
   "source": [
    "print(terms_women)"
   ]
  },
  {
   "cell_type": "code",
   "execution_count": null,
   "metadata": {},
   "outputs": [],
   "source": [
    "terms_indigenous=[]\n",
    "for x in l:\n",
    "    for y in x:\n",
    "        if y[2] == 'INDIGENOUS':\n",
    "            terms_indigenous.append(y[3])"
   ]
  },
  {
   "cell_type": "code",
   "execution_count": null,
   "metadata": {},
   "outputs": [],
   "source": [
    "print(terms_indigenous)"
   ]
  },
  {
   "cell_type": "code",
   "execution_count": null,
   "metadata": {},
   "outputs": [],
   "source": [
    "test = \"./TestCorpus\""
   ]
  },
  {
   "cell_type": "code",
   "execution_count": null,
   "metadata": {},
   "outputs": [],
   "source": [
    "fnames = [fname for fname in os.listdir(test) if fname.endswith(ext)]\n",
    "ext = \".txt\"\n",
    "word = input(\"Input the search word: \")\n",
    "res1 = list(filter(lambda fname: word in open(fname).read(), fnames))\n",
    "res2 = list(filter(lambda fname: word.lower() in open(fname).read().lower(), fnames))\n",
    "print(\"result1:\", res1)\n",
    "print(\"result2:\", res2)"
   ]
  },
  {
   "cell_type": "code",
   "execution_count": null,
   "metadata": {},
   "outputs": [],
   "source": []
  },
  {
   "cell_type": "code",
   "execution_count": null,
   "metadata": {},
   "outputs": [],
   "source": []
  }
 ],
 "metadata": {
  "kernelspec": {
   "display_name": "Python 3",
   "language": "python",
   "name": "python3"
  },
  "language_info": {
   "codemirror_mode": {
    "name": "ipython",
    "version": 3
   },
   "file_extension": ".py",
   "mimetype": "text/x-python",
   "name": "python",
   "nbconvert_exporter": "python",
   "pygments_lexer": "ipython3",
   "version": "3.7.6"
  }
 },
 "nbformat": 4,
 "nbformat_minor": 4
}
