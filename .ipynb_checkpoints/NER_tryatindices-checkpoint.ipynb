{
 "cells": [
  {
   "cell_type": "code",
   "execution_count": 7,
   "metadata": {},
   "outputs": [],
   "source": [
    "from tqdm import tqdm\n",
    "\n",
    "import gzip\n",
    "import os\n",
    "\n",
    "import random\n",
    "\n",
    "\n",
    "d = \"Corpus\" "
   ]
  },
  {
   "cell_type": "code",
   "execution_count": 8,
   "metadata": {},
   "outputs": [],
   "source": [
    "import spacy\n",
    "import spacy\n",
    "from spacy import displacy\n",
    "nlp = spacy.load(\"nl_core_news_lg\")"
   ]
  },
  {
   "cell_type": "code",
   "execution_count": 9,
   "metadata": {},
   "outputs": [],
   "source": [
    "import random"
   ]
  },
  {
   "cell_type": "markdown",
   "metadata": {},
   "source": [
    "# Define NER Pipeline and Run on Texts"
   ]
  },
  {
   "cell_type": "code",
   "execution_count": 10,
   "metadata": {},
   "outputs": [],
   "source": [
    "def load(file):\n",
    "    with open(os.path.join(d, file), \"r\") as handle:\n",
    "        return handle.read()\n",
    "    \n",
    "def preprocess(text):\n",
    "    return text\n",
    "\n",
    "\n",
    "relevant_labels = [\"PERSON\", \"GPE\", \"ORG\"]\n",
    "def postprocess(doc_obj):\n",
    "    return [e for e in doc_obj.ents if (e.label_ in relevant_labels) and len(str(e)) > 2]"
   ]
  },
  {
   "cell_type": "code",
   "execution_count": 11,
   "metadata": {},
   "outputs": [
    {
     "name": "stderr",
     "output_type": "stream",
     "text": [
      "100%|██████████| 1/1 [00:00<00:00,  4.02it/s]\n"
     ]
    }
   ],
   "source": [
    "files = random.sample(os.listdir(d), 1)\n",
    "\n",
    "entity_lists = {}\n",
    "texts = []\n",
    "for f in tqdm(files):\n",
    "    text = load(f)\n",
    "    texts.append(text)\n",
    "    entities = postprocess(\n",
    "                    nlp(\n",
    "                        preprocess(text)\n",
    "                        )\n",
    "                    )   \n",
    "    \n",
    "    entity_lists[f] = entities"
   ]
  },
  {
   "cell_type": "code",
   "execution_count": 12,
   "metadata": {},
   "outputs": [],
   "source": [
    "all_ents = [e for e_ls in entity_lists.values() for e in e_ls]"
   ]
  },
  {
   "cell_type": "markdown",
   "metadata": {},
   "source": [
    "# Inspect List of Entities and Distribution over it"
   ]
  },
  {
   "cell_type": "code",
   "execution_count": 26,
   "metadata": {},
   "outputs": [
    {
     "name": "stdout",
     "output_type": "stream",
     "text": [
      "bepaald:/ | ORG \n",
      "\n",
      "testatrije delangstleevende | PERSON \n",
      "\n",
      "actien Obligatien | PERSON \n",
      "\n",
      "Eerffecten | PERSON \n",
      "\n",
      "siaminie | PERSON \n",
      "\n",
      "onzen gemeeneen | PERSON \n",
      "\n",
      "den ge | GPE \n",
      "\n",
      "beneeden | GPE \n",
      "\n",
      "voortloopen also den Eerst | PERSON \n",
      "\n",
      "deesen | PERSON \n",
      "\n",
      "overzulks den | PERSON \n",
      "\n",
      "jangst leevende | PERSON \n",
      "\n",
      "weerkaner | PERSON \n",
      "\n",
      "Heeren weesmee | PERSON \n",
      "\n",
      "gewiijtige kerdenen | PERSON \n",
      "\n",
      "Eerwaardens | PERSON \n",
      "\n",
      "Cas | PERSON \n",
      "\n",
      "deesen | PERSON \n",
      "\n"
     ]
    }
   ],
   "source": [
    "for e in all_ents:\n",
    "    print(e, \"|\", e.label_, \"\\n\")"
   ]
  },
  {
   "cell_type": "code",
   "execution_count": 27,
   "metadata": {},
   "outputs": [],
   "source": [
    "from collections import Counter\n",
    "import matplotlib.pyplot as plt"
   ]
  },
  {
   "cell_type": "code",
   "execution_count": 28,
   "metadata": {},
   "outputs": [
    {
     "name": "stdout",
     "output_type": "stream",
     "text": [
      "1 bepaald:/\n",
      "1 testatrije delangstleevende\n",
      "1 actien Obligatien\n",
      "1 Eerffecten\n",
      "1 siaminie\n",
      "1 onzen gemeeneen\n",
      "1 den ge\n",
      "1 beneeden\n",
      "1 voortloopen also den Eerst\n",
      "1 deesen\n"
     ]
    }
   ],
   "source": [
    "entity_counts = Counter(all_ents)\n",
    "\n",
    "ranks, counts = list(zip(*enumerate(c for e, c in entity_counts.most_common())))\n",
    "\n",
    "\n",
    "for ent, count in entity_counts.most_common(10):\n",
    "    print(count, ent)"
   ]
  },
  {
   "cell_type": "markdown",
   "metadata": {},
   "source": [
    "# Create Index of Entities \n",
    "## i.e. Link Entities into Texts in which they appear"
   ]
  },
  {
   "cell_type": "code",
   "execution_count": 29,
   "metadata": {},
   "outputs": [],
   "source": [
    "import pandas as pd\n",
    "\n",
    "records = []\n",
    "\n",
    "for (filename, entity_list), t in zip(entity_lists.items(), texts):\n",
    "    for entity in entity_list:\n",
    "        start, end = max(entity.start_char-10, 0), min(entity.end_char+10, len(t))\n",
    "        rec = (str(entity), filename, entity.label_, t[start:end]) # , entity.start, entity.end)\n",
    "        records.append(rec)\n",
    "        \n",
    "        \n",
    "df = pd.DataFrame.from_records(records, columns=[\"entity_name\", \"filename\", \"entity_type\", \"snippet\"])\n",
    "    \n",
    "df.to_csv(\"some_csv.csv\")"
   ]
  },
  {
   "cell_type": "code",
   "execution_count": 34,
   "metadata": {},
   "outputs": [
    {
     "data": {
      "text/html": [
       "<div>\n",
       "<style scoped>\n",
       "    .dataframe tbody tr th:only-of-type {\n",
       "        vertical-align: middle;\n",
       "    }\n",
       "\n",
       "    .dataframe tbody tr th {\n",
       "        vertical-align: top;\n",
       "    }\n",
       "\n",
       "    .dataframe thead th {\n",
       "        text-align: right;\n",
       "    }\n",
       "</style>\n",
       "<table border=\"1\" class=\"dataframe\">\n",
       "  <thead>\n",
       "    <tr style=\"text-align: right;\">\n",
       "      <th></th>\n",
       "      <th>entity_name</th>\n",
       "      <th>filename</th>\n",
       "      <th>entity_type</th>\n",
       "      <th>snippet</th>\n",
       "    </tr>\n",
       "  </thead>\n",
       "  <tbody>\n",
       "    <tr>\n",
       "      <th>1</th>\n",
       "      <td>testatrije delangstleevende</td>\n",
       "      <td>txt_NL-HaNA_1.04.02_6847_1185.txt</td>\n",
       "      <td>PERSON</td>\n",
       "      <td>aald:/\\nde testatrije delangstleevende zijnde va</td>\n",
       "    </tr>\n",
       "    <tr>\n",
       "      <th>2</th>\n",
       "      <td>actien Obligatien</td>\n",
       "      <td>txt_NL-HaNA_1.04.02_6847_1185.txt</td>\n",
       "      <td>PERSON</td>\n",
       "      <td>mits alle actien Obligatien vaste Eer</td>\n",
       "    </tr>\n",
       "    <tr>\n",
       "      <th>3</th>\n",
       "      <td>Eerffecten</td>\n",
       "      <td>txt_NL-HaNA_1.04.02_6847_1185.txt</td>\n",
       "      <td>PERSON</td>\n",
       "      <td>ien vaste Eerffecten en andere</td>\n",
       "    </tr>\n",
       "    <tr>\n",
       "      <th>4</th>\n",
       "      <td>siaminie</td>\n",
       "      <td>txt_NL-HaNA_1.04.02_6847_1185.txt</td>\n",
       "      <td>PERSON</td>\n",
       "      <td>siaven en siaminie juwelen\\nv</td>\n",
       "    </tr>\n",
       "    <tr>\n",
       "      <th>5</th>\n",
       "      <td>onzen gemeeneen</td>\n",
       "      <td>txt_NL-HaNA_1.04.02_6847_1185.txt</td>\n",
       "      <td>PERSON</td>\n",
       "      <td>naamd\\ntot onzen gemeeneen boedel ge</td>\n",
       "    </tr>\n",
       "    <tr>\n",
       "      <th>8</th>\n",
       "      <td>voortloopen also den Eerst</td>\n",
       "      <td>txt_NL-HaNA_1.04.02_6847_1185.txt</td>\n",
       "      <td>PERSON</td>\n",
       "      <td>er waarde voortloopen also den Eerst stergeend</td>\n",
       "    </tr>\n",
       "    <tr>\n",
       "      <th>9</th>\n",
       "      <td>deesen</td>\n",
       "      <td>txt_NL-HaNA_1.04.02_6847_1185.txt</td>\n",
       "      <td>PERSON</td>\n",
       "      <td>teerd bij deesen en dat ov</td>\n",
       "    </tr>\n",
       "    <tr>\n",
       "      <th>10</th>\n",
       "      <td>overzulks den</td>\n",
       "      <td>txt_NL-HaNA_1.04.02_6847_1185.txt</td>\n",
       "      <td>PERSON</td>\n",
       "      <td>en en dat overzulks den jangst le</td>\n",
       "    </tr>\n",
       "    <tr>\n",
       "      <th>11</th>\n",
       "      <td>jangst leevende</td>\n",
       "      <td>txt_NL-HaNA_1.04.02_6847_1185.txt</td>\n",
       "      <td>PERSON</td>\n",
       "      <td>zulks den jangst leevende onzer\\neen</td>\n",
       "    </tr>\n",
       "    <tr>\n",
       "      <th>12</th>\n",
       "      <td>weerkaner</td>\n",
       "      <td>txt_NL-HaNA_1.04.02_6847_1185.txt</td>\n",
       "      <td>PERSON</td>\n",
       "      <td>rd om ter weerkaner alhier\\nte</td>\n",
       "    </tr>\n",
       "    <tr>\n",
       "      <th>13</th>\n",
       "      <td>Heeren weesmee</td>\n",
       "      <td>txt_NL-HaNA_1.04.02_6847_1185.txt</td>\n",
       "      <td>PERSON</td>\n",
       "      <td>ij beiden Heeren weesmee„\\nsteren v</td>\n",
       "    </tr>\n",
       "    <tr>\n",
       "      <th>14</th>\n",
       "      <td>gewiijtige kerdenen</td>\n",
       "      <td>txt_NL-HaNA_1.04.02_6847_1185.txt</td>\n",
       "      <td>PERSON</td>\n",
       "      <td>voor dat gewiijtige kerdenen haar Eerw</td>\n",
       "    </tr>\n",
       "    <tr>\n",
       "      <th>15</th>\n",
       "      <td>Eerwaardens</td>\n",
       "      <td>txt_NL-HaNA_1.04.02_6847_1185.txt</td>\n",
       "      <td>PERSON</td>\n",
       "      <td>enen haar Eerwaardens daar\\ntoe</td>\n",
       "    </tr>\n",
       "    <tr>\n",
       "      <th>16</th>\n",
       "      <td>Cas</td>\n",
       "      <td>txt_NL-HaNA_1.04.02_6847_1185.txt</td>\n",
       "      <td>PERSON</td>\n",
       "      <td>in zo een Cas zal zij\\ne</td>\n",
       "    </tr>\n",
       "    <tr>\n",
       "      <th>17</th>\n",
       "      <td>deesen</td>\n",
       "      <td>txt_NL-HaNA_1.04.02_6847_1185.txt</td>\n",
       "      <td>PERSON</td>\n",
       "      <td>ktste bij deesen (gehouden</td>\n",
       "    </tr>\n",
       "  </tbody>\n",
       "</table>\n",
       "</div>"
      ],
      "text/plain": [
       "                    entity_name                           filename  \\\n",
       "1   testatrije delangstleevende  txt_NL-HaNA_1.04.02_6847_1185.txt   \n",
       "2             actien Obligatien  txt_NL-HaNA_1.04.02_6847_1185.txt   \n",
       "3                    Eerffecten  txt_NL-HaNA_1.04.02_6847_1185.txt   \n",
       "4                      siaminie  txt_NL-HaNA_1.04.02_6847_1185.txt   \n",
       "5               onzen gemeeneen  txt_NL-HaNA_1.04.02_6847_1185.txt   \n",
       "8    voortloopen also den Eerst  txt_NL-HaNA_1.04.02_6847_1185.txt   \n",
       "9                        deesen  txt_NL-HaNA_1.04.02_6847_1185.txt   \n",
       "10                overzulks den  txt_NL-HaNA_1.04.02_6847_1185.txt   \n",
       "11              jangst leevende  txt_NL-HaNA_1.04.02_6847_1185.txt   \n",
       "12                    weerkaner  txt_NL-HaNA_1.04.02_6847_1185.txt   \n",
       "13               Heeren weesmee  txt_NL-HaNA_1.04.02_6847_1185.txt   \n",
       "14          gewiijtige kerdenen  txt_NL-HaNA_1.04.02_6847_1185.txt   \n",
       "15                  Eerwaardens  txt_NL-HaNA_1.04.02_6847_1185.txt   \n",
       "16                          Cas  txt_NL-HaNA_1.04.02_6847_1185.txt   \n",
       "17                       deesen  txt_NL-HaNA_1.04.02_6847_1185.txt   \n",
       "\n",
       "   entity_type                                           snippet  \n",
       "1       PERSON  aald:/\\nde testatrije delangstleevende zijnde va  \n",
       "2       PERSON             mits alle actien Obligatien vaste Eer  \n",
       "3       PERSON                    ien vaste Eerffecten en andere  \n",
       "4       PERSON                     siaven en siaminie juwelen\\nv  \n",
       "5       PERSON              naamd\\ntot onzen gemeeneen boedel ge  \n",
       "8       PERSON    er waarde voortloopen also den Eerst stergeend  \n",
       "9       PERSON                        teerd bij deesen en dat ov  \n",
       "10      PERSON                 en en dat overzulks den jangst le  \n",
       "11      PERSON              zulks den jangst leevende onzer\\neen  \n",
       "12      PERSON                    rd om ter weerkaner alhier\\nte  \n",
       "13      PERSON               ij beiden Heeren weesmee„\\nsteren v  \n",
       "14      PERSON            voor dat gewiijtige kerdenen haar Eerw  \n",
       "15      PERSON                  enen haar Eerwaardens daar\\ntoe   \n",
       "16      PERSON                          in zo een Cas zal zij\\ne  \n",
       "17      PERSON                        ktste bij deesen (gehouden  "
      ]
     },
     "execution_count": 34,
     "metadata": {},
     "output_type": "execute_result"
    }
   ],
   "source": [
    "df[df.entity_type == \"PERSON\"]"
   ]
  },
  {
   "cell_type": "code",
   "execution_count": 30,
   "metadata": {},
   "outputs": [],
   "source": [
    "df[df.entity_type == \"PERSON\"].to_csv(\"person_csv.csv\")"
   ]
  },
  {
   "cell_type": "markdown",
   "metadata": {},
   "source": [
    "# Things to DO\n",
    "\n",
    " - get distribution over entities\n",
    " - create actual index as CSV table\n",
    " - create basic knowledge graph "
   ]
  },
  {
   "cell_type": "markdown",
   "metadata": {},
   "source": [
    "---\n",
    "## Use Jaccard Distance (Intersection over Union)\n",
    "\n",
    "Compute overlap of all pairs of texts (in terms of Jaccard distance) and then establish the distribution over these overlaps. Could use that to identify texts that appear because the same physical page was scanned twice."
   ]
  },
  {
   "cell_type": "code",
   "execution_count": 33,
   "metadata": {},
   "outputs": [
    {
     "name": "stdout",
     "output_type": "stream",
     "text": [
      "txt_NL-HaNA_1.04.02_6847_0013.txt txt_NL-HaNA_1.04.02_6847_0013.txt 1.0\n",
      "txt_NL-HaNA_1.04.02_6847_0013.txt txt_NL-HaNA_1.04.02_6847_0012.txt 0.11475409836065574\n",
      "txt_NL-HaNA_1.04.02_6847_0013.txt txt_NL-HaNA_1.04.02_6847_0011.txt 0.967741935483871\n",
      "txt_NL-HaNA_1.04.02_6847_0012.txt txt_NL-HaNA_1.04.02_6847_0013.txt 0.11475409836065574\n",
      "txt_NL-HaNA_1.04.02_6847_0012.txt txt_NL-HaNA_1.04.02_6847_0012.txt 1.0\n",
      "txt_NL-HaNA_1.04.02_6847_0012.txt txt_NL-HaNA_1.04.02_6847_0011.txt 0.11475409836065574\n",
      "txt_NL-HaNA_1.04.02_6847_0011.txt txt_NL-HaNA_1.04.02_6847_0013.txt 0.967741935483871\n",
      "txt_NL-HaNA_1.04.02_6847_0011.txt txt_NL-HaNA_1.04.02_6847_0012.txt 0.11475409836065574\n",
      "txt_NL-HaNA_1.04.02_6847_0011.txt txt_NL-HaNA_1.04.02_6847_0011.txt 1.0\n"
     ]
    }
   ],
   "source": [
    "def jaccard(words1, words2):\n",
    "    s1, s2 = set(words1), set(words2)\n",
    "    return len(s1 & s2)/len(s1 | s2)\n",
    "\n",
    "\n",
    "texts = {f: load(f) for f in files}\n",
    "\n",
    "\n",
    "all_distances = []\n",
    "for f1, t1 in texts.items():\n",
    "    for f2, t2 in texts.items():\n",
    "        d = jaccard(t1, t2)\n",
    "        all_distances.append(d)\n",
    "        print(f1, f2, d)\n"
   ]
  }
 ],
 "metadata": {
  "kernelspec": {
   "display_name": "Python 3",
   "language": "python",
   "name": "python3"
  },
  "language_info": {
   "codemirror_mode": {
    "name": "ipython",
    "version": 3
   },
   "file_extension": ".py",
   "mimetype": "text/x-python",
   "name": "python",
   "nbconvert_exporter": "python",
   "pygments_lexer": "ipython3",
   "version": "3.7.6"
  }
 },
 "nbformat": 4,
 "nbformat_minor": 4
}
